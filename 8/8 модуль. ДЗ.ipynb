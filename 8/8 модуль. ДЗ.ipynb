{
 "cells": [
  {
   "cell_type": "markdown",
   "metadata": {},
   "source": [
    "Посчитаем долю блокировщиков рекламы по источникам трафика за 12-18 февраля 2018. Не учитывайте строчки, в которых наличие блокировщиков не определено. В качестве метрики возьмем визиты. Измерение для блокировщиков рекламы ym:s:hasAdBlocker, источник трафика - ym:s:TrafficSource.\n",
    "\n",
    "Требыется выяснить - какой источник имеет самую большую долю визитов с использованием блокировщиков рекламы?\n",
    "\n",
    "внутренние переходы: исп - 21. не исп -  46. отношение - 31,3"
   ]
  },
  {
   "cell_type": "code",
   "execution_count": 1,
   "metadata": {},
   "outputs": [],
   "source": [
    "dimensions_full = ['ym:s:date', 'ym:s:deviceCategory', 'ym:s:browser','ym:s:hasAdBlocker','ym:s:trafficSource']\n",
    "metrics_full = ['ym:s:visits', 'ym:s:users', 'ym:s:pageviews']\n",
    "\n",
    "dimensions = ['ym:s:hasAdBlocker','ym:s:trafficSource']\n",
    "metrics = ['ym:s:visits']\n"
   ]
  },
  {
   "cell_type": "code",
   "execution_count": 2,
   "metadata": {},
   "outputs": [],
   "source": [
    "import requests\n",
    "from yaml import load\n",
    "from pprint import pprint\n",
    "\n",
    "f = open('config.yaml', 'r')\n",
    "config = load(f)\n",
    "token = config['token']\n",
    "API_URL = 'https://api-metrika.yandex.ru/stat/v1/data'\n",
    "startDate = '2018-02-12'\n",
    "endDate = '2018-02-18'\n",
    "counter = '21075004'"
   ]
  },
  {
   "cell_type": "code",
   "execution_count": 3,
   "metadata": {},
   "outputs": [],
   "source": [
    "def make_request(**kwargs):\n",
    "\n",
    "    \"\"\"Запрос к API Яндекс.Метрики. Возвращает JSON ответа\"\"\"\n",
    "\n",
    "    return requests.get(API_URL, params = kwargs).json()"
   ]
  },
  {
   "cell_type": "code",
   "execution_count": 4,
   "metadata": {
    "scrolled": true
   },
   "outputs": [
    {
     "name": "stdout",
     "output_type": "stream",
     "text": [
      "{'data': [{'dimensions': [{'id': 'no', 'name': 'Блокировщик не используется'},\n",
      "                          {'icon_id': '2',\n",
      "                           'icon_type': 'traffic-source',\n",
      "                           'id': 'organic',\n",
      "                           'name': 'Переходы из поисковых систем'}],\n",
      "           'metrics': [474.0]},\n",
      "          {'dimensions': [{'id': 'no', 'name': 'Блокировщик не используется'},\n",
      "                          {'icon_id': '0',\n",
      "                           'icon_type': 'traffic-source',\n",
      "                           'id': 'direct',\n",
      "                           'name': 'Прямые заходы'}],\n",
      "           'metrics': [213.0]},\n",
      "          {'dimensions': [{'id': 'no', 'name': 'Блокировщик не используется'},\n",
      "                          {'icon_id': '8',\n",
      "                           'icon_type': 'traffic-source',\n",
      "                           'id': 'social',\n",
      "                           'name': 'Переходы из социальных сетей'}],\n",
      "           'metrics': [84.0]},\n",
      "          {'dimensions': [{'id': 'yes', 'name': 'Блокировщик используется'},\n",
      "                          {'icon_id': '2',\n",
      "                           'icon_type': 'traffic-source',\n",
      "                           'id': 'organic',\n",
      "                           'name': 'Переходы из поисковых систем'}],\n",
      "           'metrics': [51.0]},\n",
      "          {'dimensions': [{'id': 'no', 'name': 'Блокировщик не используется'},\n",
      "                          {'icon_id': '-1',\n",
      "                           'icon_type': 'traffic-source',\n",
      "                           'id': 'internal',\n",
      "                           'name': 'Внутренние переходы'}],\n",
      "           'metrics': [46.0]},\n",
      "          {'dimensions': [{'id': 'yes', 'name': 'Блокировщик используется'},\n",
      "                          {'icon_id': '-1',\n",
      "                           'icon_type': 'traffic-source',\n",
      "                           'id': 'internal',\n",
      "                           'name': 'Внутренние переходы'}],\n",
      "           'metrics': [21.0]},\n",
      "          {'dimensions': [{'id': 'yes', 'name': 'Блокировщик используется'},\n",
      "                          {'icon_id': '0',\n",
      "                           'icon_type': 'traffic-source',\n",
      "                           'id': 'direct',\n",
      "                           'name': 'Прямые заходы'}],\n",
      "           'metrics': [14.0]},\n",
      "          {'dimensions': [{'id': 'yes', 'name': 'Блокировщик используется'},\n",
      "                          {'icon_id': '8',\n",
      "                           'icon_type': 'traffic-source',\n",
      "                           'id': 'social',\n",
      "                           'name': 'Переходы из социальных сетей'}],\n",
      "           'metrics': [8.0]},\n",
      "          {'dimensions': [{'id': 'no', 'name': 'Блокировщик не используется'},\n",
      "                          {'icon_id': '1',\n",
      "                           'icon_type': 'traffic-source',\n",
      "                           'id': 'referral',\n",
      "                           'name': 'Переходы по ссылкам на сайтах'}],\n",
      "           'metrics': [1.0]}],\n",
      " 'data_lag': 179,\n",
      " 'max': [474.0],\n",
      " 'min': [1.0],\n",
      " 'query': {'attribution': 'Last',\n",
      "           'auto_group_size': '1',\n",
      "           'currency': 'RUB',\n",
      "           'date1': '2018-02-12',\n",
      "           'date2': '2018-02-18',\n",
      "           'dimensions': ['ym:s:hasAdBlocker', 'ym:s:trafficSource'],\n",
      "           'group': 'Week',\n",
      "           'ids': [21075004],\n",
      "           'limit': 100,\n",
      "           'metrics': ['ym:s:visits'],\n",
      "           'offline_window': '21',\n",
      "           'offset': 1,\n",
      "           'quantile': '50',\n",
      "           'sort': ['-ym:s:visits']},\n",
      " 'sample_share': 1.0,\n",
      " 'sample_size': 2458,\n",
      " 'sample_space': 2458,\n",
      " 'sampled': False,\n",
      " 'total_rows': 9,\n",
      " 'total_rows_rounded': False,\n",
      " 'totals': [912.0]}\n"
     ]
    }
   ],
   "source": [
    "data = make_request(date1 = startDate, date2 = endDate, dimensions = ','.join(dimensions), metrics = ','.join(metrics), id = counter, oauth_token = token, accuracy = 1)\n",
    "pprint(data)"
   ]
  },
  {
   "cell_type": "code",
   "execution_count": 5,
   "metadata": {},
   "outputs": [],
   "source": [
    "def json_handler(data):\n",
    "\n",
    "    \"\"\"Преобразование ответа из JSON в список листов\"\"\"\n",
    "    report = []\n",
    "    for line in data['data']:\n",
    "        dimensions_list = [x['name'] for x in line['dimensions']]\n",
    "        metrics_list = line['metrics']\n",
    "        report.append( dimensions_list + metrics_list )\n",
    "\n",
    "    return report"
   ]
  },
  {
   "cell_type": "code",
   "execution_count": 6,
   "metadata": {
    "scrolled": false
   },
   "outputs": [
    {
     "name": "stdout",
     "output_type": "stream",
     "text": [
      "[['Блокировщик не используется', 'Переходы из поисковых систем', 474.0], ['Блокировщик не используется', 'Прямые заходы', 213.0], ['Блокировщик не используется', 'Переходы из социальных сетей', 84.0], ['Блокировщик используется', 'Переходы из поисковых систем', 51.0], ['Блокировщик не используется', 'Внутренние переходы', 46.0], ['Блокировщик используется', 'Внутренние переходы', 21.0], ['Блокировщик используется', 'Прямые заходы', 14.0], ['Блокировщик используется', 'Переходы из социальных сетей', 8.0], ['Блокировщик не используется', 'Переходы по ссылкам на сайтах', 1.0]]\n"
     ]
    }
   ],
   "source": [
    "stat_lists=json_handler(data)\n",
    "print(stat_lists)"
   ]
  },
  {
   "cell_type": "code",
   "execution_count": 7,
   "metadata": {},
   "outputs": [
    {
     "data": {
      "text/plain": [
       "[['Блокировщик не используется', 'Переходы из поисковых систем', 474.0],\n",
       " ['Блокировщик не используется', 'Прямые заходы', 213.0],\n",
       " ['Блокировщик не используется', 'Переходы из социальных сетей', 84.0],\n",
       " ['Блокировщик используется', 'Переходы из поисковых систем', 51.0],\n",
       " ['Блокировщик не используется', 'Внутренние переходы', 46.0],\n",
       " ['Блокировщик используется', 'Внутренние переходы', 21.0],\n",
       " ['Блокировщик используется', 'Прямые заходы', 14.0],\n",
       " ['Блокировщик используется', 'Переходы из социальных сетей', 8.0],\n",
       " ['Блокировщик не используется', 'Переходы по ссылкам на сайтах', 1.0]]"
      ]
     },
     "execution_count": 7,
     "metadata": {},
     "output_type": "execute_result"
    }
   ],
   "source": [
    "json_handler(data)"
   ]
  },
  {
   "cell_type": "code",
   "execution_count": 8,
   "metadata": {},
   "outputs": [
    {
     "data": {
      "text/plain": [
       "{'Блокировщик не используется': {'Переходы из поисковых систем': 474,\n",
       "  'Прямые заходы': 213,\n",
       "  'Переходы из социальных сетей': 84,\n",
       "  'Внутренние переходы': 46,\n",
       "  'Переходы по ссылкам на сайтах': 1},\n",
       " 'Блокировщик используется': {'Переходы из поисковых систем': 51,\n",
       "  'Внутренние переходы': 21,\n",
       "  'Прямые заходы': 14,\n",
       "  'Переходы из социальных сетей': 8}}"
      ]
     },
     "execution_count": 8,
     "metadata": {},
     "output_type": "execute_result"
    }
   ],
   "source": [
    "\"\"\"Можно переписать этот код с помощью метода setdefault. \n",
    "Этот метод проверяет есть ли в словаре указанный ключ 'google'. \n",
    "Если есть, то оставляет соответствующее значение ключа прежним. \n",
    "Если ключа не оказалось, то подставляет указанное нами значение (в примере это значение 0). \n",
    "Тем самым после применения метода setdefault можно смело использовать прибавление 1 к ключу 'google'.\n",
    "Независимо от того был ли этот ключ в словаре раньше:\"\"\"\n",
    "\n",
    "stat_dict = {}\n",
    "\n",
    "for line in stat_lists:\n",
    "\n",
    "    addblocker=line[0]\n",
    "    source=line[1]\n",
    "    visits=int(line[2])\n",
    "\n",
    "    stat_dict.setdefault(addblocker, {})\n",
    "    stat_dict[addblocker].setdefault(source, 0)\n",
    "    stat_dict[addblocker][source] = visits\n",
    "stat_dict"
   ]
  },
  {
   "cell_type": "markdown",
   "metadata": {},
   "source": [
    "Далее можно перетащить словарь или даже лист листов в датафрейм и там обрабатывать."
   ]
  },
  {
   "cell_type": "code",
   "execution_count": 9,
   "metadata": {},
   "outputs": [
    {
     "data": {
      "text/html": [
       "<div>\n",
       "<style scoped>\n",
       "    .dataframe tbody tr th:only-of-type {\n",
       "        vertical-align: middle;\n",
       "    }\n",
       "\n",
       "    .dataframe tbody tr th {\n",
       "        vertical-align: top;\n",
       "    }\n",
       "\n",
       "    .dataframe thead th {\n",
       "        text-align: right;\n",
       "    }\n",
       "</style>\n",
       "<table border=\"1\" class=\"dataframe\">\n",
       "  <thead>\n",
       "    <tr style=\"text-align: right;\">\n",
       "      <th></th>\n",
       "      <th>Блокировщик не используется</th>\n",
       "      <th>Блокировщик используется</th>\n",
       "    </tr>\n",
       "  </thead>\n",
       "  <tbody>\n",
       "    <tr>\n",
       "      <th>Внутренние переходы</th>\n",
       "      <td>46</td>\n",
       "      <td>21.0</td>\n",
       "    </tr>\n",
       "    <tr>\n",
       "      <th>Переходы из поисковых систем</th>\n",
       "      <td>474</td>\n",
       "      <td>51.0</td>\n",
       "    </tr>\n",
       "    <tr>\n",
       "      <th>Переходы из социальных сетей</th>\n",
       "      <td>84</td>\n",
       "      <td>8.0</td>\n",
       "    </tr>\n",
       "    <tr>\n",
       "      <th>Переходы по ссылкам на сайтах</th>\n",
       "      <td>1</td>\n",
       "      <td>NaN</td>\n",
       "    </tr>\n",
       "    <tr>\n",
       "      <th>Прямые заходы</th>\n",
       "      <td>213</td>\n",
       "      <td>14.0</td>\n",
       "    </tr>\n",
       "  </tbody>\n",
       "</table>\n",
       "</div>"
      ],
      "text/plain": [
       "                               Блокировщик не используется  \\\n",
       "Внутренние переходы                                     46   \n",
       "Переходы из поисковых систем                           474   \n",
       "Переходы из социальных сетей                            84   \n",
       "Переходы по ссылкам на сайтах                            1   \n",
       "Прямые заходы                                          213   \n",
       "\n",
       "                               Блокировщик используется  \n",
       "Внутренние переходы                                21.0  \n",
       "Переходы из поисковых систем                       51.0  \n",
       "Переходы из социальных сетей                        8.0  \n",
       "Переходы по ссылкам на сайтах                       NaN  \n",
       "Прямые заходы                                      14.0  "
      ]
     },
     "execution_count": 9,
     "metadata": {},
     "output_type": "execute_result"
    }
   ],
   "source": [
    "import pandas as pd\n",
    "df=pd.DataFrame(stat_dict)\n",
    "df"
   ]
  },
  {
   "cell_type": "code",
   "execution_count": 10,
   "metadata": {},
   "outputs": [],
   "source": [
    "df['Отношение %'] = (df['Блокировщик используется']/(df['Блокировщик используется'] + df['Блокировщик не используется']))*100"
   ]
  },
  {
   "cell_type": "code",
   "execution_count": 11,
   "metadata": {},
   "outputs": [
    {
     "data": {
      "text/html": [
       "<div>\n",
       "<style scoped>\n",
       "    .dataframe tbody tr th:only-of-type {\n",
       "        vertical-align: middle;\n",
       "    }\n",
       "\n",
       "    .dataframe tbody tr th {\n",
       "        vertical-align: top;\n",
       "    }\n",
       "\n",
       "    .dataframe thead th {\n",
       "        text-align: right;\n",
       "    }\n",
       "</style>\n",
       "<table border=\"1\" class=\"dataframe\">\n",
       "  <thead>\n",
       "    <tr style=\"text-align: right;\">\n",
       "      <th></th>\n",
       "      <th>Блокировщик не используется</th>\n",
       "      <th>Блокировщик используется</th>\n",
       "      <th>Отношение %</th>\n",
       "    </tr>\n",
       "  </thead>\n",
       "  <tbody>\n",
       "    <tr>\n",
       "      <th>Внутренние переходы</th>\n",
       "      <td>46</td>\n",
       "      <td>21.0</td>\n",
       "      <td>31.343284</td>\n",
       "    </tr>\n",
       "    <tr>\n",
       "      <th>Переходы из поисковых систем</th>\n",
       "      <td>474</td>\n",
       "      <td>51.0</td>\n",
       "      <td>9.714286</td>\n",
       "    </tr>\n",
       "    <tr>\n",
       "      <th>Переходы из социальных сетей</th>\n",
       "      <td>84</td>\n",
       "      <td>8.0</td>\n",
       "      <td>8.695652</td>\n",
       "    </tr>\n",
       "    <tr>\n",
       "      <th>Переходы по ссылкам на сайтах</th>\n",
       "      <td>1</td>\n",
       "      <td>NaN</td>\n",
       "      <td>NaN</td>\n",
       "    </tr>\n",
       "    <tr>\n",
       "      <th>Прямые заходы</th>\n",
       "      <td>213</td>\n",
       "      <td>14.0</td>\n",
       "      <td>6.167401</td>\n",
       "    </tr>\n",
       "  </tbody>\n",
       "</table>\n",
       "</div>"
      ],
      "text/plain": [
       "                               Блокировщик не используется  \\\n",
       "Внутренние переходы                                     46   \n",
       "Переходы из поисковых систем                           474   \n",
       "Переходы из социальных сетей                            84   \n",
       "Переходы по ссылкам на сайтах                            1   \n",
       "Прямые заходы                                          213   \n",
       "\n",
       "                               Блокировщик используется  Отношение %  \n",
       "Внутренние переходы                                21.0    31.343284  \n",
       "Переходы из поисковых систем                       51.0     9.714286  \n",
       "Переходы из социальных сетей                        8.0     8.695652  \n",
       "Переходы по ссылкам на сайтах                       NaN          NaN  \n",
       "Прямые заходы                                      14.0     6.167401  "
      ]
     },
     "execution_count": 11,
     "metadata": {},
     "output_type": "execute_result"
    }
   ],
   "source": [
    "df"
   ]
  },
  {
   "cell_type": "markdown",
   "metadata": {},
   "source": [
    "Итак ответ: \"Внутренние переходы\" - самая высокая доля визитов с блокировщиком рекламы 31.34%"
   ]
  }
 ],
 "metadata": {
  "kernelspec": {
   "display_name": "Python 3",
   "language": "python",
   "name": "python3"
  },
  "language_info": {
   "codemirror_mode": {
    "name": "ipython",
    "version": 3
   },
   "file_extension": ".py",
   "mimetype": "text/x-python",
   "name": "python",
   "nbconvert_exporter": "python",
   "pygments_lexer": "ipython3",
   "version": "3.7.0"
  }
 },
 "nbformat": 4,
 "nbformat_minor": 2
}
