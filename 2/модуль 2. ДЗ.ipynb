{
 "cells": [
  {
   "cell_type": "markdown",
   "metadata": {},
   "source": [
    "Подсчет ROI в разрезе типов источников трафика. Т.е. значения ROI по типам. Типы определяются следующим образом:\n",
    "\n",
    "    - если source равен 'google' или 'yandex', то проверяем medium:\n",
    "\n",
    "        - для medium 'seo' или 'sem' тип источника равен 'search engines seo'\n",
    "\n",
    "        - для medium 'brand' - тип источника равен 'search engines brand'\n",
    "\n",
    "        - для остальных случаев тип источника равен 'search engines undefined'\n",
    "\n",
    "    - если условие не выполнено, то тип источника равен 'other'"
   ]
  },
  {
   "cell_type": "code",
   "execution_count": 1,
   "metadata": {},
   "outputs": [
    {
     "data": {
      "text/plain": [
       "'other'"
      ]
     },
     "execution_count": 1,
     "metadata": {},
     "output_type": "execute_result"
    }
   ],
   "source": [
    "\"\"\"создадим функцию для определения типа источника. \n",
    "передадим ей в качестве аргумента все данные по заказу (т. е. всю строку line)\"\"\"\n",
    "\n",
    "def source_type_classification( line ):\n",
    "    \"\"\"\n",
    "    Пример строки на входе функции:\n",
    "    ['40443', '05.10.2016 23:18', '1010', '0,000925926', 'seo', 'google', '0', '6243', '20,20']\n",
    "    Функция классифицирует источник трафика в зависимости от значения source и medium.\n",
    "    Возвращает название типа источника по правилам:\n",
    "        - если source равен 'google' или 'yandex', то проверяем medium:\n",
    "            - для medium 'seo' или 'sem' возвращаем 'search engines seo'\n",
    "            - для medium 'brand' - возвращаем 'search engines brand'\n",
    "            - для остальных случаев возвращаем 'search engines undefined'\n",
    "        - если условие не выполнено, то возвращаем 'other'\n",
    "    \"\"\"\n",
    "    source = line[5]\n",
    "    medium = line[4]\n",
    "    \n",
    "    if source == 'google' or source == 'yandex':\n",
    "        if medium == 'seo' or medium == 'sem':\n",
    "            return 'search engines seo'\n",
    "        elif medium == 'brand':\n",
    "            return 'search engines brand'\n",
    "        else:\n",
    "            # если вдруг встретится другой вариант, то ставим \"undefined\"\n",
    "            return 'search engines undefined'\n",
    "    else:\n",
    "        return 'other'\n",
    "line=['40177', '05.10.2016 3:23', '1041', '0,0033796', 'email', 'promo', '0', '6128', '13,20']\n",
    "\n",
    "source_type_classification(line)"
   ]
  },
  {
   "cell_type": "code",
   "execution_count": null,
   "metadata": {},
   "outputs": [],
   "source": [
    "\"\"\" создадим словарь. в нем указаны все типы и их количество \"\"\" \n",
    "## на самом деле это здесь не нужно\n",
    "source_type_stats={}\n",
    "with open('data_no_header.txt','r') as f:\n",
    "    for line in f:\n",
    "        line=line.strip().split('\\t')\n",
    "        source=line[5]\n",
    "        medium=line[4]\n",
    "        sourceType=source_type_classification(line)\n",
    "        if sourceType in source_type_stats:\n",
    "            source_type_stats[sourceType]+=1\n",
    "        else:\n",
    "            source_type_stats[ sourceType ] = 1\n",
    "\n",
    "source_type_stats.items()"
   ]
  },
  {
   "cell_type": "code",
   "execution_count": 2,
   "metadata": {},
   "outputs": [
    {
     "data": {
      "text/plain": [
       "9"
      ]
     },
     "execution_count": 2,
     "metadata": {},
     "output_type": "execute_result"
    }
   ],
   "source": [
    "## параграф 2  ---  РАБОТАЕТ ВЕРНО!!!!\n",
    "\"\"\" сформируем новые словари\"\"\" \n",
    "cpa_commission = {'burgerclub': 0.3,'food-delivery': 0.25}\n",
    "cpc_commission = {'city-magazine': 7,'foody': 9}\n",
    "fixed_commission = 4\n",
    "def costs_classification( amount_paid, source ): ### ВОЗРАЩАЕТ КОМИССИЮ \n",
    "    \n",
    "    \"\"\"\n",
    "    Функция по названию канала source возвращает размер комиссии.\n",
    "    Размеры комиссий берутся из словарей cpa_commission, cpc_commission и значения fixed_commission\n",
    "    \"\"\"\n",
    "# если источник source входит в словарь cpa_commission, то возвращаем долю от выручки\n",
    "    if source in cpa_commission:\n",
    "        return amount_paid * cpa_commission[source]\n",
    "# в случае партнеров CPC стоимость расходов постоянная\n",
    "    if source in cpc_commission:\n",
    "        return cpc_commission[ source ]\n",
    "# если ни один случай не подходит, то возвращаем фиксированную стоимость fixed_commission\n",
    "    return fixed_commission\n",
    "costs_classification( 10.0, 'foody' )  ### ДАДИМ ФУНКЦИИ ПРИМЕР ИЗ ЭКСЕЛЯ"
   ]
  },
  {
   "cell_type": "code",
   "execution_count": 3,
   "metadata": {},
   "outputs": [
    {
     "data": {
      "text/plain": [
       "('search engines seo', 5.0, 20.2)"
      ]
     },
     "execution_count": 3,
     "metadata": {},
     "output_type": "execute_result"
    }
   ],
   "source": [
    "## параграф 3 - вроде все верно но надо проверить строку 10\n",
    "##### СЧИТАЕМ ROI \n",
    "def expense_and_income( line ):\n",
    "    \"\"\"\n",
    "    Функция для строки line возвращает итоговый расход и доход\n",
    "    \"\"\"\n",
    "    source = line[5]\n",
    "    MediumType = source_type_classification(line) #возвращает функция из параграфа 1. д.б. верно\n",
    "    amount_paid = float( line[-1].replace( ',', '.' ) ) #берем из строки файла\n",
    "    cost = float( line[6].replace( ',', '.' ) ) #берем из строки файла\n",
    "    partner_comission = costs_classification( amount_paid, source ) # ФУНЦИЯ из параграфа 2 НАДО ПРОВЕРИТЬ!!!\n",
    "    return MediumType, cost+partner_comission, amount_paid\n",
    "\n",
    "\n",
    "expense_and_income(['40443', '05.10.2016 23:18', '1010', '0,000925926', 'seo', 'yandex', '1', '6243', '20,20'])\n",
    "\n"
   ]
  },
  {
   "cell_type": "code",
   "execution_count": 4,
   "metadata": {},
   "outputs": [
    {
     "data": {
      "text/plain": [
       "{'search engines seo': {'cost': 686.2699999999992, 'income': 2902.4},\n",
       " 'other': {'cost': 541.1059999999999, 'income': 1992.7999999999997},\n",
       " 'search engines brand': {'cost': 52.0, 'income': 234.60000000000005}}"
      ]
     },
     "execution_count": 4,
     "metadata": {},
     "output_type": "execute_result"
    }
   ],
   "source": [
    "## параграф 4 ---  РАБОТАЕТ ВЕРНО!!!! но надо проверить строку 8\n",
    "# Теперь прогоним через функцию весь файл и запишем результат в словарь roi_stats\n",
    "\n",
    "roi_stats = {}\n",
    "with open( 'data_no_header.txt', 'r' ) as f:\n",
    "    for line in f:\n",
    "        line = line.strip().split('\\t')\n",
    "        MediumType, cost, income = expense_and_income( line ) ### из параграфа 3 НАДО ПРОВЕРИТЬ!!!\n",
    "        if MediumType in roi_stats:\n",
    "            roi_stats[ MediumType ][ 'cost' ] += cost\n",
    "            roi_stats[ MediumType ][ 'income' ] += income\n",
    "        else:\n",
    "            roi_stats[ MediumType ] = {}\n",
    "            roi_stats[ MediumType ][ 'cost' ] = cost\n",
    "            roi_stats[ MediumType ][ 'income' ] = income\n",
    "            \n",
    "roi_stats\n",
    "# search engines seo': {'cost': 686.2699999999992, 'income': 2902.4} - сходится с EXCEL\n",
    "# search engines brand': {'cost': 52.0, 'income': 234.60000000000005} - сходится с EXCEL\n",
    "# other : в EXCELL  1487,00 и 340 - НЕ сходится !!!"
   ]
  },
  {
   "cell_type": "code",
   "execution_count": 5,
   "metadata": {},
   "outputs": [
    {
     "name": "stdout",
     "output_type": "stream",
     "text": [
      "search engines seo\t3.23\n",
      "other\t2.68\n",
      "search engines brand\t3.51\n"
     ]
    }
   ],
   "source": [
    "## параграф 5 ---  РАБОТАЕТ ВЕРНО!!!!\n",
    "for MediumType, data in roi_stats.items(): #dict.items() - возвращает пары (ключ, значение).\n",
    "    data['roi'] = ( data['income'] - data['cost'] ) / data['cost']\n",
    "\n",
    "for MediumType, data in roi_stats.items(): #dict.items() - возвращает пары (ключ, значение).\n",
    "    print( '{}\\t{:.2f}'.format( MediumType, data['roi'] ) )"
   ]
  }
 ],
 "metadata": {
  "kernelspec": {
   "display_name": "Python 3",
   "language": "python",
   "name": "python3"
  },
  "language_info": {
   "codemirror_mode": {
    "name": "ipython",
    "version": 3
   },
   "file_extension": ".py",
   "mimetype": "text/x-python",
   "name": "python",
   "nbconvert_exporter": "python",
   "pygments_lexer": "ipython3",
   "version": "3.7.0"
  }
 },
 "nbformat": 4,
 "nbformat_minor": 2
}
