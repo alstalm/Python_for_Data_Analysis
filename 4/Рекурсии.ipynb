{
 "cells": [
  {
   "cell_type": "code",
   "execution_count": 1,
   "metadata": {},
   "outputs": [],
   "source": [
    "def decrease_and_print_i( i ):\n",
    "    if i > 1:\n",
    "        print(i)\n",
    "        return decrease_and_print_i(i - 1)\n",
    "    else:\n",
    "        return 1"
   ]
  },
  {
   "cell_type": "code",
   "execution_count": 2,
   "metadata": {},
   "outputs": [
    {
     "name": "stdout",
     "output_type": "stream",
     "text": [
      "2\n"
     ]
    },
    {
     "data": {
      "text/plain": [
       "1"
      ]
     },
     "execution_count": 2,
     "metadata": {},
     "output_type": "execute_result"
    }
   ],
   "source": [
    "i = 2\n",
    "decrease_and_print_i( i )"
   ]
  },
  {
   "cell_type": "code",
   "execution_count": 3,
   "metadata": {},
   "outputs": [],
   "source": [
    "\"\"\"\n",
    "сделаем пример, в котором использование рекурсии позволит нам перевести лист в словарь\n",
    "\"\"\"\n",
    "line = ['2016-10-01', 'burgerclub', 'cpa-partners', 1]\n",
    "dict2fill = {'2016-10-01': {'burgerclub': {'cpa-partners': 1}}}"
   ]
  },
  {
   "cell_type": "code",
   "execution_count": 4,
   "metadata": {},
   "outputs": [
    {
     "data": {
      "text/plain": [
       "{'2016-10-01': {'burgerclub': {'cpa-partners': 1}}}"
      ]
     },
     "execution_count": 4,
     "metadata": {},
     "output_type": "execute_result"
    }
   ],
   "source": [
    "line = ['2016-10-01', 'burgerclub', 'cpa-partners', 1]\n",
    "\n",
    "def fillLevels( lineRemainder ):\n",
    "    \"\"\"\n",
    "    На вход функция принимает часть листа line. \n",
    "    Берет его первый элемент lineRemainder[0] и вызывает себя с остатком листа line. Т. е. с элементами lineRemainder[1:].\n",
    "    Так продолжаем до тех пор, пока в lineRemainder не останется один элемент\n",
    "    Пример\n",
    "    fillLevels( ['2016-10-01', 'burgerclub', 'cpa-partners', 1] )\n",
    "    {'2016-10-01': {'burgerclub': {'cpa-partners': 1}}}\n",
    "    \"\"\"\n",
    "# словарь, который будем пошагово заполнять\n",
    "    dict2fill = {}\n",
    "    if len( lineRemainder ) > 1:\n",
    "        dict2fill[ lineRemainder[0] ] = fillLevels( lineRemainder[1:] )\n",
    "        \n",
    "    else:\n",
    "        return lineRemainder[0]\n",
    "    return dict2fill\n",
    "fillLevels(line)"
   ]
  },
  {
   "cell_type": "code",
   "execution_count": 5,
   "metadata": {},
   "outputs": [
    {
     "data": {
      "text/plain": [
       "{0: {1: {2: {3: {4: {5: {6: {7: {8: {9: {10: {11: {12: {13: {14: {15: {16: {17: {18: {19: {20: {21: {22: {23: {24: {25: {26: {27: {28: {29: {30: {31: {32: {33: {34: {35: {36: {37: {38: {39: {40: {41: {42: {43: {44: {45: {46: {47: {48: {49: {50: {51: {52: {53: {54: {55: {56: {57: {58: {59: {60: {61: {62: {63: {64: {65: {66: {67: {68: {69: {70: {71: {72: {73: {74: {75: {76: {77: {78: {79: {80: {81: {82: {83: {84: {85: {86: {87: {88: {89: {90: {91: {92: {93: {94: {95: {96: {97: {98: 99}}}}}}}}}}}}}}}}}}}}}}}}}}}}}}}}}}}}}}}}}}}}}}}}}}}}}}}}}}}}}}}}}}}}}}}}}}}}}}}}}}}}}}}}}}}}}}}}}}}"
      ]
     },
     "execution_count": 5,
     "metadata": {},
     "output_type": "execute_result"
    }
   ],
   "source": [
    "line = range(100)\n",
    "\n",
    "fillLevels(line)"
   ]
  },
  {
   "cell_type": "code",
   "execution_count": 6,
   "metadata": {},
   "outputs": [],
   "source": [
    "\"\"\" \n",
    "Функция перевода таблицы в словарь\n",
    "\"\"\"\n",
    "def checkLevels( levelDict, level, line ):\n",
    "    if line[ level ] in levelDict:\n",
    "        checkLevels( levelDict[ line[ level ] ], level + 1, line )\n",
    "        return levelDict\n",
    "    else:\n",
    "        levelDict[ line[ level ] ] =  fillLevels( line[ level + 1: ] )\n",
    "        return levelDict\n",
    "    "
   ]
  },
  {
   "cell_type": "code",
   "execution_count": 7,
   "metadata": {},
   "outputs": [
    {
     "name": "stdout",
     "output_type": "stream",
     "text": [
      "{'2016-10-01': {'google': {'sem': 5, 'seo': 1}, 'newsletter': {'email': 1}}}\n"
     ]
    }
   ],
   "source": [
    "data = [\n",
    "    ['2016-10-01', 'google', 'sem', 5],\n",
    "    ['2016-10-01', 'google', 'seo', 1],\n",
    "    ['2016-10-01', 'newsletter', 'email', 1]\n",
    "]\n",
    "data_dict = {}\n",
    "for line in data:\n",
    "    data_dict = checkLevels(data_dict, 0, line)\n",
    "print(data_dict)"
   ]
  },
  {
   "cell_type": "code",
   "execution_count": 8,
   "metadata": {},
   "outputs": [
    {
     "name": "stdout",
     "output_type": "stream",
     "text": [
      "{'2018-01-01': {'google': {'cpc': {'ДФО': {'кампания_1': {'Хабаровск': 114, 'Магадан': 436}, 'кампания_2': {'Владивосток': 536}}}}}}\n"
     ]
    }
   ],
   "source": [
    "\"\"\"\n",
    "Статистика покупок прошедшей рекламной кампании задается шестью параметрами листом data:\n",
    "Используя функцию checkLevels, получим словарь data_dict.\n",
    "\n",
    "Сколько различных кампаний было проведено в листе data? Т. е. \n",
    "необходимо посчитать количество ключей словаря data_dict['2018-01-01']['google']['cpc']['ДФО']\n",
    "\"\"\"\n",
    "data = [\n",
    "['2018-01-01', 'google', 'cpc', 'ДФО', 'кампания_1', 'Хабаровск', 114],\n",
    "['2018-01-01', 'google', 'cpc', 'ДФО', 'кампания_2', 'Владивосток', 536],\n",
    "['2018-01-01', 'google', 'cpc', 'ДФО', 'кампания_1', 'Магадан', 436]\n",
    "]\n",
    "data_dict = {}\n",
    "for line in data:\n",
    "    data_dict = checkLevels(data_dict, 0, line)\n",
    "print(data_dict)"
   ]
  },
  {
   "cell_type": "code",
   "execution_count": 9,
   "metadata": {},
   "outputs": [
    {
     "data": {
      "text/plain": [
       "2"
      ]
     },
     "execution_count": 9,
     "metadata": {},
     "output_type": "execute_result"
    }
   ],
   "source": [
    "len( data_dict['2018-01-01']['google']['cpc']['ДФО'] )"
   ]
  },
  {
   "cell_type": "code",
   "execution_count": 10,
   "metadata": {},
   "outputs": [],
   "source": [
    "\"\"\"Поиск покупок в таблице\n",
    "Словарь готов, а это значит основная часть задачи выполнена. Осталось написать функцию поиска количества покупок \n",
    "по трем значениям: даты покупки, источника и канала.\n",
    "Реализуем следующий алгорим: будем последовательно проверять наличие ключа с данной датой, \n",
    "источником или каналом в словаре data_dict. Если хотя бы одного ключа не окажется, то можем сразу возвращать 0 покупок. \n",
    "Это существенно ускорит наш поиск в случае больших таблиц.\n",
    "\"\"\"\n",
    "def findLineValue( finalDict, line ):\n",
    "    if len( line ) > 1:\n",
    "        if line[ 0 ] in finalDict:\n",
    "            return findLineValue( finalDict[ line[ 0 ] ], line[1:] )\n",
    "        else:\n",
    "            return 0\n",
    "    else:\n",
    "        if line[0] in finalDict:\n",
    "            return finalDict[ line[0] ]\n",
    "        else:\n",
    "            return 0"
   ]
  },
  {
   "cell_type": "code",
   "execution_count": 11,
   "metadata": {},
   "outputs": [
    {
     "data": {
      "text/plain": [
       "{'ДФО': {'кампания_1': {'Хабаровск': 114, 'Магадан': 436},\n",
       "  'кампания_2': {'Владивосток': 536}}}"
      ]
     },
     "execution_count": 11,
     "metadata": {},
     "output_type": "execute_result"
    }
   ],
   "source": [
    "findLineValue( data_dict, ['2018-01-01', 'google', 'cpc'] )"
   ]
  },
  {
   "cell_type": "code",
   "execution_count": 12,
   "metadata": {},
   "outputs": [
    {
     "data": {
      "text/plain": [
       "0"
      ]
     },
     "execution_count": 12,
     "metadata": {},
     "output_type": "execute_result"
    }
   ],
   "source": [
    "findLineValue( data_dict, ['2018-01-01', 'google', 'sem'] )"
   ]
  },
  {
   "cell_type": "code",
   "execution_count": 13,
   "metadata": {},
   "outputs": [
    {
     "data": {
      "text/plain": [
       "0.02"
      ]
     },
     "execution_count": 13,
     "metadata": {},
     "output_type": "execute_result"
    }
   ],
   "source": [
    "\"\"\"\n",
    "Известно, что 1 января по кампании google / cpc кампания_2 во Владивостоке было 26 800 переходов. \n",
    "Посчитаем конверсию из переходов в покупки, используя функцию поиска findLineValue.\n",
    "Каково значение конверсии переходов в покупки для этого случая? Приведите точное значение конверсии \n",
    "(пример формата ответа 0.04)\n",
    "\"\"\"\n",
    "sales=findLineValue( data_dict, ['2018-01-01', 'google', 'cpc', 'ДФО', 'кампания_2','Владивосток'] )\n",
    "#s=int(sales)\n",
    "conversion=sales/26800\n",
    "conversion"
   ]
  }
 ],
 "metadata": {
  "kernelspec": {
   "display_name": "Python 3",
   "language": "python",
   "name": "python3"
  },
  "language_info": {
   "codemirror_mode": {
    "name": "ipython",
    "version": 3
   },
   "file_extension": ".py",
   "mimetype": "text/x-python",
   "name": "python",
   "nbconvert_exporter": "python",
   "pygments_lexer": "ipython3",
   "version": "3.7.0"
  }
 },
 "nbformat": 4,
 "nbformat_minor": 2
}
