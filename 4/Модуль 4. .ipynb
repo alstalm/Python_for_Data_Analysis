{
 "cells": [
  {
   "cell_type": "code",
   "execution_count": 1,
   "metadata": {},
   "outputs": [
    {
     "name": "stdout",
     "output_type": "stream",
     "text": [
      "{'burgerclub': 10, 'city-magazine': 5, 'direct': 5, 'facebook': 5, 'food-delivery': 10, 'foody': 3, 'google': 77, 'newsletter': 5, 'promo': 68, 'vk': 2, 'yandex': 104}\n",
      "68\n"
     ]
    }
   ],
   "source": [
    "\"\"\"\n",
    "Преобразование таблицы в словарь Previous Subsection\n",
    "\"\"\"\n",
    "orders_dict = {}\n",
    "\n",
    "with open('orders_by_source.txt', 'r') as f:\n",
    "    for line in f:\n",
    "        line = line.strip().split('\\t')      \n",
    "        source=line[0]\n",
    "        orders_count=int(line[1])\n",
    "        if source in orders_dict:\n",
    "            orders_dict[source] += orders_count # важный момент!!! запись dict[key] выдает value, справа ЗНАЧЕНИЕ\n",
    "        else:\n",
    "            orders_dict[source] = orders_count\n",
    "        \n",
    "#        orders_dict[ source ] = source\n",
    "#        orders_dict[ orders_count ] = orders_count\n",
    "\n",
    "print( orders_dict )\n",
    "print(orders_dict['promo'])\n",
    "        "
   ]
  },
  {
   "cell_type": "code",
   "execution_count": 2,
   "metadata": {},
   "outputs": [
    {
     "data": {
      "text/plain": [
       "10"
      ]
     },
     "execution_count": 2,
     "metadata": {},
     "output_type": "execute_result"
    }
   ],
   "source": [
    "\"\"\"\n",
    "Объединение таблиц\n",
    "Теперь мы можем использовать наш словарь в функции поиска количества покупок. \n",
    "Для более удобного использования будем передавать словарь как аргумент функции \n",
    "searchForLine:\n",
    "\"\"\"\n",
    "def searchForLine( source, orders_dict ):\n",
    "\n",
    "    \"\"\"\n",
    "    Функция по названию источника source ищет соответствующую строку в файле orders_by_source.txt.\n",
    "    Возвращает количество покупок, соответствующее источнику source. Если источник не найден, то возвращает 0\n",
    "    Пример\n",
    "    searchForLine('burgerclub', orders_dict)\n",
    "    1197\n",
    "    searchForLine('source_123', orders_dict)\n",
    "    0\n",
    "    \"\"\"  \n",
    "\n",
    "    if source in orders_dict:\n",
    "        return int( orders_dict[source] )  \n",
    "    else:\n",
    "        return 0\n",
    "\n",
    "\"\"\" Проверим работает ли наша функция как мы ожидаем:\"\"\"\n",
    "\n",
    "searchForLine('burgerclub', orders_dict)"
   ]
  },
  {
   "cell_type": "code",
   "execution_count": 3,
   "metadata": {},
   "outputs": [
    {
     "name": "stdout",
     "output_type": "stream",
     "text": [
      "burgerclub,1197,10,0.008\n",
      "city-magazine,528,5,0.009\n",
      "facebook,3144,5,0.002\n",
      "food-delivery,1184,10,0.008\n",
      "foody,421,3,0.007\n",
      "google,10961,77,0.007\n",
      "newsletter,637,5,0.008\n",
      "promo,7405,68,0.009\n",
      "vk,256,2,0.008\n",
      "yandex,11757,104,0.009\n",
      "direct,2156,5,0.002\n"
     ]
    }
   ],
   "source": [
    "with open('visits_by_source.txt', 'r') as f:\n",
    "    for line in f:\n",
    "        line = line.strip().split('\\t')      \n",
    "        source=line[0]\n",
    "        visits=int(line[1])\n",
    "        orders=searchForLine( source, orders_dict )\n",
    "        conversion=orders / visits\n",
    "        #print(source, visits, orders, orders / visits)\n",
    "      \n",
    "        print( '{},{},{},{:.3f}'.format(source, visits, orders, orders / visits) )\n"
   ]
  },
  {
   "cell_type": "code",
   "execution_count": 4,
   "metadata": {},
   "outputs": [],
   "source": [
    "with open('joined_by_source.txt','w') as f_joined:\n",
    "    f_joined.write('source\\t visits\\t orders\\t conversion\\n')\n",
    "    with open('visits_by_source.txt', 'r') as f:\n",
    "        sum_conversion=0\n",
    "        i=0\n",
    "        \n",
    "        for line in f:\n",
    "            line=line.strip().split('\\t')\n",
    "            source=line[0]\n",
    "            visits=int(line[1])\n",
    "            orders=searchForLine( source, orders_dict )\n",
    "            conversion=orders / visits\n",
    "            sum_conversion+=conversion\n",
    "            i+=1\n",
    "            f_joined.write('{}\\t{}\\t{}\\t{:.3f}\\n'.format(source, visits, orders, conversion ))\n",
    "\n",
    "    f_joined.write('\\t\\t Средняя конверсия составляет:\\t{:.3f}'.format(sum_conversion/i))  "
   ]
  },
  {
   "cell_type": "code",
   "execution_count": 5,
   "metadata": {},
   "outputs": [],
   "source": [
    "with open('joined_by_source_3.txt','w') as f_joined: \n",
    "    f_joined.write('source\\t visits\\t orders\\t conversion\\n')"
   ]
  },
  {
   "cell_type": "code",
   "execution_count": 7,
   "metadata": {},
   "outputs": [
    {
     "data": {
      "text/plain": [
       "{'brand': 7, 'sem': 67, 'seo': 30}"
      ]
     },
     "execution_count": 7,
     "metadata": {},
     "output_type": "execute_result"
    }
   ],
   "source": [
    "\"\"\"\n",
    "Построение вложенного словаря\n",
    "\"\"\"\n",
    "orders_dict = {}\n",
    "\n",
    "with open('orders_by_source_and_medium.txt', 'r') as f:\n",
    "    for line in f:\n",
    "        line = line.strip().split('\\t')    \n",
    "\n",
    "        source = line[0]\n",
    "        medium = line[1]\n",
    "        orders_count = int( line[2] )\n",
    "\n",
    "        orders_dict.setdefault(source, {})\n",
    "        orders_dict[source].setdefault(medium, 0)      \n",
    "        orders_dict[source][medium] = orders_count\n",
    "\n",
    "#Смотрим что получилось для ключа 'google':\n",
    "orders_dict['yandex']"
   ]
  },
  {
   "cell_type": "code",
   "execution_count": 8,
   "metadata": {},
   "outputs": [],
   "source": [
    "def searchForLine( source, medium, orders_dict ):\n",
    "    if source in orders_dict:      \n",
    "        if  medium in orders_dict[source]:\n",
    "               return int( orders_dict[source][medium] )  \n",
    "        else:\n",
    "            return 0\n",
    "    else:\n",
    "        return 0   \n"
   ]
  },
  {
   "cell_type": "code",
   "execution_count": 10,
   "metadata": {},
   "outputs": [
    {
     "data": {
      "text/plain": [
       "15"
      ]
     },
     "execution_count": 10,
     "metadata": {},
     "output_type": "execute_result"
    }
   ],
   "source": [
    "searchForLine('google', 'seo', orders_dict)"
   ]
  },
  {
   "cell_type": "code",
   "execution_count": 11,
   "metadata": {},
   "outputs": [
    {
     "data": {
      "text/plain": [
       "0"
      ]
     },
     "execution_count": 11,
     "metadata": {},
     "output_type": "execute_result"
    }
   ],
   "source": [
    "searchForLine('google_123', 'seo', orders_dict)"
   ]
  },
  {
   "cell_type": "code",
   "execution_count": 12,
   "metadata": {},
   "outputs": [
    {
     "data": {
      "text/plain": [
       "0"
      ]
     },
     "execution_count": 12,
     "metadata": {},
     "output_type": "execute_result"
    }
   ],
   "source": [
    "searchForLine('google', 'seo_123', orders_dict)"
   ]
  },
  {
   "cell_type": "code",
   "execution_count": 13,
   "metadata": {},
   "outputs": [
    {
     "data": {
      "text/plain": [
       "56"
      ]
     },
     "execution_count": 13,
     "metadata": {},
     "output_type": "execute_result"
    }
   ],
   "source": [
    "searchForLine('google', 'sem', orders_dict)"
   ]
  },
  {
   "cell_type": "code",
   "execution_count": 14,
   "metadata": {},
   "outputs": [
    {
     "data": {
      "text/plain": [
       "'Модуль 4. Объединение данных из разных источников > \\nБлок 3. Объединение таблиц по двум измерениям > \\nТест на повторение пройденных материалов'"
      ]
     },
     "execution_count": 14,
     "metadata": {},
     "output_type": "execute_result"
    }
   ],
   "source": [
    "\"\"\"\n",
    "Просто примеры\n",
    "\"\"\"\n"
   ]
  },
  {
   "cell_type": "code",
   "execution_count": 15,
   "metadata": {},
   "outputs": [
    {
     "data": {
      "text/plain": [
       "'bmv'"
      ]
     },
     "execution_count": 15,
     "metadata": {},
     "output_type": "execute_result"
    }
   ],
   "source": [
    "campaign = 'yandex_cpc_bmv_brand_summer'\n",
    "campaign.split('_')[2]"
   ]
  },
  {
   "cell_type": "code",
   "execution_count": 16,
   "metadata": {},
   "outputs": [],
   "source": [
    "total_costs = { 'google': 1319, 'yandex': 1818, 'promo': 1181 }\n"
   ]
  },
  {
   "cell_type": "code",
   "execution_count": 17,
   "metadata": {},
   "outputs": [
    {
     "data": {
      "text/plain": [
       "['yandex', 'promo', 'google']"
      ]
     },
     "execution_count": 17,
     "metadata": {},
     "output_type": "execute_result"
    }
   ],
   "source": [
    "total_costs = { 'google': 1319, 'yandex': 1818, 'promo': 1181 }\n",
    "sorted( total_costs, reverse = True )"
   ]
  },
  {
   "cell_type": "code",
   "execution_count": 18,
   "metadata": {},
   "outputs": [
    {
     "data": {
      "text/plain": [
       "[1818, 1319, 1181]"
      ]
     },
     "execution_count": 18,
     "metadata": {},
     "output_type": "execute_result"
    }
   ],
   "source": [
    "sorted( total_costs.values(), reverse = True )"
   ]
  },
  {
   "cell_type": "code",
   "execution_count": 19,
   "metadata": {},
   "outputs": [
    {
     "data": {
      "text/plain": [
       "['yandex', 'promo', 'google']"
      ]
     },
     "execution_count": 19,
     "metadata": {},
     "output_type": "execute_result"
    }
   ],
   "source": [
    " sorted( total_costs.keys(), reverse = True )"
   ]
  },
  {
   "cell_type": "code",
   "execution_count": 21,
   "metadata": {},
   "outputs": [
    {
     "data": {
      "text/plain": [
       "0"
      ]
     },
     "execution_count": 21,
     "metadata": {},
     "output_type": "execute_result"
    }
   ],
   "source": [
    "def google_costs(data):\n",
    "    data.setdefault('google', 0)\n",
    "    return data['google']\n",
    "\n",
    "google_costs( {'vk': 100} )"
   ]
  },
  {
   "cell_type": "code",
   "execution_count": 23,
   "metadata": {},
   "outputs": [
    {
     "data": {
      "text/plain": [
       "datetime.datetime(2017, 2, 23, 15, 20)"
      ]
     },
     "execution_count": 23,
     "metadata": {},
     "output_type": "execute_result"
    }
   ],
   "source": [
    "import datetime\n",
    "from datetime import datetime, timedelta\n",
    "\"\"\"\n",
    "7. Как нам перевести следующую дату в тип \n",
    "datetime: date_string = '23.02.2017 15:20'?\n",
    "\"\"\"\n",
    "date_string = '23.02.2017 15:20'\n",
    "datetime.strptime( date_string, '%d.%m.%Y %H:%M' )"
   ]
  }
 ],
 "metadata": {
  "kernelspec": {
   "display_name": "Python 3",
   "language": "python",
   "name": "python3"
  },
  "language_info": {
   "codemirror_mode": {
    "name": "ipython",
    "version": 3
   },
   "file_extension": ".py",
   "mimetype": "text/x-python",
   "name": "python",
   "nbconvert_exporter": "python",
   "pygments_lexer": "ipython3",
   "version": "3.7.0"
  }
 },
 "nbformat": 4,
 "nbformat_minor": 2
}
