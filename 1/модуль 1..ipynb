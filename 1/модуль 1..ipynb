{
 "cells": [
  {
   "cell_type": "markdown",
   "metadata": {},
   "source": [
    "Дана строчка из CSV-файла, которая содержит набор поисковых запросов, разделенных запятой:\n",
    "\n",
    "queries = \"смотреть сериалы онлайн,новости спорта,афиша кино,курс доллара,сериалы этим летом,курс по питону,сериалы про спорт\"\n",
    "\n",
    "Также дан список слов, по которому необходимо отфильтровать исходную строку с поисковыми запросами:\n",
    "\n",
    "words = ['сериалы', 'курс']\n",
    "\n",
    "Скрипт, выводит на экран строчку queries, в которой оставлены только те запросы, которые содержат слова из листа words."
   ]
  },
  {
   "cell_type": "code",
   "execution_count": 1,
   "metadata": {},
   "outputs": [],
   "source": [
    "## Исходные данные\n",
    "queries = \"смотреть сериалы онлайн,новости спорта,афиша кино,курс доллара,сериалы этим летом,курс по питону,сериалы про спорт\"\n",
    "words = ['сериалы', 'курс']\n",
    "\n",
    "list_queries = queries.split(',') ## Переводим строку запрросов в список\n",
    "\n",
    "n_of_queries=len(list_queries) ## Считаем сколько в списке запросов. Возможно пригодится.\n",
    "n_of_words=len(words) ## Считаем сколько слов в списке слов, по которому необходимо отфильтровать \n",
    "\n",
    "result_list=[]\n",
    "word = 'сериалы'\n",
    "for i in range(n_of_queries):\n",
    "    for j in range(n_of_words):\n",
    "        if words[j] in list_queries[i]:\n",
    "            result_list.append(list_queries[i])\n",
    "result=','.join(result_list)"
   ]
  },
  {
   "cell_type": "code",
   "execution_count": 2,
   "metadata": {},
   "outputs": [
    {
     "data": {
      "text/plain": [
       "'смотреть сериалы онлайн,курс доллара,сериалы этим летом,курс по питону,сериалы про спорт'"
      ]
     },
     "execution_count": 2,
     "metadata": {},
     "output_type": "execute_result"
    }
   ],
   "source": [
    "result"
   ]
  }
 ],
 "metadata": {
  "kernelspec": {
   "display_name": "Python 3",
   "language": "python",
   "name": "python3"
  },
  "language_info": {
   "codemirror_mode": {
    "name": "ipython",
    "version": 3
   },
   "file_extension": ".py",
   "mimetype": "text/x-python",
   "name": "python",
   "nbconvert_exporter": "python",
   "pygments_lexer": "ipython3",
   "version": "3.7.0"
  }
 },
 "nbformat": 4,
 "nbformat_minor": 2
}
